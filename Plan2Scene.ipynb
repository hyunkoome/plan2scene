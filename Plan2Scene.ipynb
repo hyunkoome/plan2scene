{
 "cells": [
  {
   "cell_type": "markdown",
   "source": [
    "## Load Plan2Scene Modules\n",
    "__Re-run from here if you restart the runtime.__"
   ],
   "metadata": {
    "collapsed": false
   },
   "id": "91ba17748abd50a0"
  },
  {
   "cell_type": "code",
   "outputs": [
    {
     "name": "stderr",
     "output_type": "stream",
     "text": [
      "INFO:root:Using seed: 12415\n",
      "WARNING:root:Config file not found: ./conf/plan2scene/render.json\n",
      "INFO:root:Args: Namespace(seed=12415, data_paths='./conf/plan2scene/data_paths.json', house_gen='./conf/plan2scene/house_gen.json', metric_conf='./conf/plan2scene/metric.json', texture_gen='./conf/plan2scene/texture_gen.json', texture_prop='./conf/plan2scene/texture_prop_conf/default.json', render_config='./conf/plan2scene/render.json', seam_correct_config='./conf/plan2scene/seam_correct.json', labels_path='./conf/plan2scene/labels', log_level='INFO', drop='0.0', num_workers=4)\n"
     ]
    }
   ],
   "source": [
    "# Load system modules\n",
    "import zipfile\n",
    "import io\n",
    "import os.path as osp\n",
    "import os\n",
    "# from google.colab import files\n",
    "import json\n",
    "import pandas as pd\n",
    "import sys\n",
    "# from IPython.core.display import display, HTML\n",
    "from IPython.display import display, HTML\n",
    "from ipywidgets import interact\n",
    "from PIL import ImageDraw, Image\n",
    "import torch\n",
    "\n",
    "# Load Plan2Scene modules\n",
    "sys.path.append(\"./code/src\")\n",
    "from arch_parser.parser import parse_arch_json, parse_object_jsons, PreferredFormat, parse_scene_json_from_file\n",
    "from plan2scene.common.residence import House\n",
    "from plan2scene.config_manager import ConfigManager\n",
    "from plan2scene.common.image_description import ImageDescription, ImageSource\n",
    "from plan2scene.utils.io import load_image\n",
    "from arch_parser.json_util import pil_to_data_url\n",
    "from plan2scene.texture_gen.predictor import TextureGenPredictor\n",
    "from plan2scene.texture_gen.utils.io import load_conf_eval\n",
    "from plan2scene.crop_select.util import fill_textures\n",
    "from plan2scene.texture_prop.utils import update_embeddings\n",
    "from plan2scene.texture_prop.predictor import TexturePropPredictor\n",
    "from plan2scene.texture_prop.graph_generators import InferenceHGG\n",
    "from plan2scene.texture_prop.houses_dataset import HouseDataset\n",
    "from torch_geometric.data import DataLoader\n",
    "from plan2scene.common.house_parser import save_arch\n",
    "from plan2scene.utils.tile_util import tile_image\n",
    "\n",
    "# Initialize config manager\n",
    "conf = ConfigManager()\n",
    "conf.load_default_args()\n",
    "conf.texture_gen.texture_synth_conf = \"./conf/plan2scene/texture_synth_conf/v2.yml\""
   ],
   "metadata": {
    "collapsed": false,
    "ExecuteTime": {
     "end_time": "2025-06-17T05:27:38.998268Z",
     "start_time": "2025-06-17T05:27:38.510969Z"
    }
   },
   "id": "8a2cac04b5241882",
   "execution_count": 5
  },
  {
   "cell_type": "code",
   "outputs": [],
   "source": [
    "def upload():\n",
    "  \"\"\"\n",
    "  Utility method for file uploads.\n",
    "  \"\"\"\n",
    "  uploaded = files.upload()\n",
    "  assert len(uploaded) == 1\n",
    "  content = None\n",
    "  for key in uploaded.keys():\n",
    "    print('Uploaded file \"{name}\" with length {length} bytes'.format(\n",
    "        name=key, length=len(uploaded[key])))\n",
    "    return uploaded[key]"
   ],
   "metadata": {
    "collapsed": false,
    "ExecuteTime": {
     "end_time": "2025-06-17T05:28:05.502277Z",
     "start_time": "2025-06-17T05:28:05.499794Z"
    }
   },
   "id": "71c1edba019a01f7",
   "execution_count": 6
  },
  {
   "cell_type": "markdown",
   "source": [
    "## Data\n",
    "In this section, we will obtain the following files from you.\n",
    "1. A floorplan vector in the scene.json format. Refer to the Rent3D++ dataset for examples. The scene.json format is [explained here](https://github.com/3dlg-hcvc/plan2scene/blob/main/docs/md/scene_json_format.md).\n",
    "2. Rectified surface crops extracted from photos of the house.\n",
    "  - If you wish to extract new rectified surface crops, [refer to instructions here](https://github.com/3dlg-hcvc/plan2scene/blob/main/docs/md/extract_crops.md).\n",
    "  - Otherwise, you can provide rectified surface crops provided with the Rent3D++ dataset.\n",
    "3. Photo room assignments specified in a photoroom.csv file. Refer to the Rent3D++ dataset for examples. The format of the photoroom.csv file is [described here](https://github.com/3dlg-hcvc/plan2scene/blob/main/docs/md/rent3dpp_data_organization.md)."
   ],
   "metadata": {
    "collapsed": false
   },
   "id": "34b811a863c0efab"
  },
  {
   "cell_type": "markdown",
   "source": [
    "__Task:__ Upload a scene.json file describing a floorplan vector."
   ],
   "metadata": {
    "collapsed": false
   },
   "id": "a310061df06d1b4b"
  },
  {
   "cell_type": "code",
   "outputs": [],
   "source": [
    "house_key = None\n",
    "if not osp.exists(\"./data/processed/archs\"):\n",
    "  os.makedirs(\"./data/processed/archs\")\n",
    "\n",
    "scene_json_content = upload()\n",
    "scene_json = json.loads(scene_json_content.decode())\n",
    "scene_id = scene_json[\"scene\"][\"arch\"][\"id\"]\n",
    "\n",
    "with open(f\"./data/processed/archs/{scene_id}.scene.json\", \"w\") as f:\n",
    "  f.write(scene_json_content.decode())\n",
    "\n",
    "print(\"Sketch of floorplan vector.\")\n",
    "arch_house = parse_scene_json_from_file(f\"./data/processed/archs/{scene_id}.scene.json\",  None)\n",
    "arch_house.sketch_house()"
   ],
   "metadata": {
    "collapsed": false
   },
   "id": "bffa42b0b680071"
  }
 ],
 "metadata": {
  "kernelspec": {
   "display_name": "Python 3",
   "language": "python",
   "name": "python3"
  },
  "language_info": {
   "codemirror_mode": {
    "name": "ipython",
    "version": 2
   },
   "file_extension": ".py",
   "mimetype": "text/x-python",
   "name": "python",
   "nbconvert_exporter": "python",
   "pygments_lexer": "ipython2",
   "version": "2.7.6"
  }
 },
 "nbformat": 4,
 "nbformat_minor": 5
}
